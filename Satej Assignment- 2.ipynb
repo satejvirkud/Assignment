{
 "cells": [
  {
   "cell_type": "markdown",
   "id": "bbf4e3eb",
   "metadata": {},
   "source": [
    "1.What are the two values of the Boolean data type? How do you write them?\n",
    "answer:- true(1) or false(0)"
   ]
  },
  {
   "cell_type": "markdown",
   "id": "321a4940",
   "metadata": {},
   "source": [
    "2. What are the three different types of Boolean operators?\n",
    "answer:-  AND, OR, NOT "
   ]
  },
  {
   "cell_type": "markdown",
   "id": "b1eea9a8",
   "metadata": {},
   "source": [
    "3. Make a list of each Boolean operators truth tables (i.e. every possible combination of Boolean\n",
    "values for the operator and what it evaluate ).\n",
    "answer:- \n",
    "true and True is True.\n",
    "True and False is False.\n",
    "False and True is False.\n",
    "False and False is False.\n",
    "\n",
    "True or True is True.\n",
    "True or False is True.\n",
    "False or True is True.\n",
    "False or False is False.\n",
    "\n",
    "not True is False.\n",
    "not False is True."
   ]
  },
  {
   "cell_type": "code",
   "execution_count": 12,
   "id": "d36b77a1",
   "metadata": {},
   "outputs": [
    {
     "name": "stdout",
     "output_type": "stream",
     "text": [
      "False\n",
      "False\n",
      "True\n",
      "False\n",
      "False\n",
      "True\n"
     ]
    }
   ],
   "source": [
    "#4. What are the values of the following expressions?\n",
    "\n",
    "print((5 > 4) and (3 == 5))\n",
    "print (not (5 > 4))\n",
    "print((5 > 4) or (3 == 5))\n",
    "print (not ((5 > 4) or (3 == 5)))\n",
    "print ((True and True) and (True == False))\n",
    "print((not False) or (not True))"
   ]
  },
  {
   "cell_type": "markdown",
   "id": "0437b884",
   "metadata": {},
   "source": [
    "5. What are the six comparison operators?\n",
    "answer:- ==, !=, <, >, <=, and >=.\n"
   ]
  },
  {
   "cell_type": "markdown",
   "id": "667ebcd4",
   "metadata": {},
   "source": [
    "6. How do you tell the difference between the equal to and assignment operators?Describe a\n",
    "condition and when you would use one.\n",
    "answer:- == is the equal to operator that compares two values which shows the given two values are equal , while = is the assignment operator that stores a value in a variable."
   ]
  },
  {
   "cell_type": "code",
   "execution_count": 15,
   "id": "1bb9a818",
   "metadata": {},
   "outputs": [
    {
     "name": "stdout",
     "output_type": "stream",
     "text": [
      "ham\n",
      "spam\n",
      "spam\n"
     ]
    }
   ],
   "source": [
    "#7. Identify the three blocks in this code:\n",
    "#answer :-  there is an indentation error\n",
    "spam = 0\n",
    "if spam == 10:\n",
    "    print(\"eggs\")\n",
    "elif spam > 5:\n",
    "     print(\"bacon\")\n",
    "else:\n",
    "    print(\"ham\")\n",
    "    print(\"spam\")\n",
    "    print(\"spam\")"
   ]
  },
  {
   "cell_type": "code",
   "execution_count": 1,
   "id": "3718ddea",
   "metadata": {},
   "outputs": [
    {
     "name": "stdout",
     "output_type": "stream",
     "text": [
      "write a number2\n",
      "howdy\n"
     ]
    }
   ],
   "source": [
    "#8. Write code that prints Hello if 1 is stored in spam, prints Howdy if 2 is stored in spam, and prints\n",
    "#Greetings! if anything else is stored in spam.\n",
    "spam = input(\"write a number\")\n",
    "if spam == \"1\":\n",
    "    print(\"hello\")\n",
    "elif spam == \"2\":\n",
    "    print(\"howdy\")\n",
    "else:\n",
    "    print(\"greetings!\")"
   ]
  },
  {
   "cell_type": "markdown",
   "id": "a27ce923",
   "metadata": {},
   "source": [
    "9.If your programme is stuck in an endless loop, what keys you’ll press?\n",
    "answer:- CTRL+C to stop a program stuck in an infinite loop."
   ]
  },
  {
   "cell_type": "markdown",
   "id": "c8363779",
   "metadata": {},
   "source": [
    "10. How can you tell the difference between break and continue?\n",
    "answer:-  The break statement will move the execution outside and just after a loop. The continue statement will move the execution to the start of the loop."
   ]
  },
  {
   "cell_type": "markdown",
   "id": "8587cf06",
   "metadata": {},
   "source": [
    "11. In a for loop, what is the difference between range(10), range(0, 10), and range(0, 10, 1)?\n",
    "answer:- 1) range (10) - it shows the number o to 10 .but not include 10\n",
    "2) range(0,10)- it shows the number start with 0 and end before the 10(ends on 9)\n",
    "3) range(0,10,1) - it shows the number start with 0 end before the 10 (ends on 9) and going with step 1"
   ]
  },
  {
   "cell_type": "code",
   "execution_count": 10,
   "id": "7695b668",
   "metadata": {},
   "outputs": [
    {
     "name": "stdout",
     "output_type": "stream",
     "text": [
      "1\n",
      "2\n",
      "3\n",
      "4\n",
      "5\n",
      "6\n",
      "7\n",
      "8\n",
      "9\n"
     ]
    }
   ],
   "source": [
    "#12. Write a short program that prints the numbers 1 to 10 using a for loop. Then write an equivalent\n",
    "#program that prints the numbers 1 to 10 using a while loop.\n",
    "# answer:-(a)\n",
    "\n",
    "for i in range(1,10):\n",
    "    print(i)"
   ]
  },
  {
   "cell_type": "code",
   "execution_count": null,
   "id": "3e8ec3a2",
   "metadata": {},
   "outputs": [],
   "source": [
    "# answer12 (b)\n",
    "count = 1\n",
    "while count <= 10:\n",
    "    print(count)\n",
    "    count +=1"
   ]
  },
  {
   "cell_type": "markdown",
   "id": "fd787d3b",
   "metadata": {},
   "source": [
    "13. If you had a function named bacon() inside a module named spam, how would you call it after\n",
    "importing spam?\n",
    "answer:- the function can be called with spam.bacon()."
   ]
  },
  {
   "cell_type": "code",
   "execution_count": null,
   "id": "6f7c40ad",
   "metadata": {},
   "outputs": [],
   "source": []
  },
  {
   "cell_type": "code",
   "execution_count": null,
   "id": "71885a0b",
   "metadata": {},
   "outputs": [],
   "source": []
  }
 ],
 "metadata": {
  "kernelspec": {
   "display_name": "Python 3 (ipykernel)",
   "language": "python",
   "name": "python3"
  },
  "language_info": {
   "codemirror_mode": {
    "name": "ipython",
    "version": 3
   },
   "file_extension": ".py",
   "mimetype": "text/x-python",
   "name": "python",
   "nbconvert_exporter": "python",
   "pygments_lexer": "ipython3",
   "version": "3.9.12"
  }
 },
 "nbformat": 4,
 "nbformat_minor": 5
}
