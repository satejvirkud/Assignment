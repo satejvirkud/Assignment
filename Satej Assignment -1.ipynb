{
 "cells": [
  {
   "cell_type": "markdown",
   "id": "70130af4",
   "metadata": {},
   "source": [
    "1) In the below elements which of them are values or an expression? eg:- values can be\n",
    "integer or string and expressions will be mathematical operators.\n",
    "\n",
    "*         -  expression   \n",
    "'hello'   -  value\n",
    "-87.8     -  value\n",
    "-         -  expression\n",
    "/         -  expression\n",
    "+         -  expression\n",
    "6         -  value"
   ]
  },
  {
   "cell_type": "markdown",
   "id": "fc1ffa69",
   "metadata": {},
   "source": [
    "2) What is the difference between string and variable?\n",
    "\n",
    "variables are symbols that you can sotre data in a program . and string is data type"
   ]
  },
  {
   "cell_type": "markdown",
   "id": "23b72fa5",
   "metadata": {},
   "source": [
    "3) Describe three different data types.\n",
    "\n",
    "integers \n",
    "float\n",
    "string"
   ]
  },
  {
   "cell_type": "markdown",
   "id": "a9405585",
   "metadata": {},
   "source": [
    "4) What is an expression made up of? What do all expressions do?\n",
    "\n",
    "Expression is a combination of operands and operators.the expression is produces some value or result after being interpreted by the python interpreter."
   ]
  },
  {
   "cell_type": "markdown",
   "id": "9bc2cd8b",
   "metadata": {},
   "source": [
    "5) This assignment statements, like spam = 10. What is the difference between an expression and a statement?\n",
    "\n",
    "An expression evaluate to a single value.A statement does not."
   ]
  },
  {
   "cell_type": "code",
   "execution_count": null,
   "id": "aed606dd",
   "metadata": {},
   "outputs": [],
   "source": [
    "6) After running the following code, what does the variable bacon contain?\n",
    "bacon = 22\n",
    "bacon + 1"
   ]
  },
  {
   "cell_type": "code",
   "execution_count": 2,
   "id": "a0153164",
   "metadata": {},
   "outputs": [
    {
     "name": "stdout",
     "output_type": "stream",
     "text": [
      "22\n",
      "23\n"
     ]
    }
   ],
   "source": [
    "# answer \n",
    "bacon = 22\n",
    "bacon + 1\n",
    "print(bacon)\n",
    "print(bacon + 1)"
   ]
  },
  {
   "cell_type": "code",
   "execution_count": null,
   "id": "1d11a55b",
   "metadata": {},
   "outputs": [],
   "source": [
    "7) What should the values of the following two terms be?\n",
    "\"spam\" +\"spamspam\"\n",
    "\"spam\" * 3"
   ]
  },
  {
   "cell_type": "code",
   "execution_count": 6,
   "id": "30df8acd",
   "metadata": {},
   "outputs": [
    {
     "name": "stdout",
     "output_type": "stream",
     "text": [
      "spamspamspam\n",
      "spamspamspam\n"
     ]
    }
   ],
   "source": [
    "# answer \n",
    "\"spam\" +\"spamspam\"\n",
    "\"spam\" * 3\n",
    "print(\"spam\" +\"spamspam\")\n",
    "print(\"spam\" * 3)"
   ]
  },
  {
   "cell_type": "markdown",
   "id": "46d02b66",
   "metadata": {},
   "source": [
    "8) Why is eggs a valid variable name while 100 is invalid?\n",
    "\n",
    "because variables are are not start with numbers "
   ]
  },
  {
   "cell_type": "code",
   "execution_count": null,
   "id": "553280cd",
   "metadata": {},
   "outputs": [],
   "source": [
    "9) What three functions can be used to get the integer, floating-point number, or string\n",
    "version of a value?\n",
    "\n",
    "integer --- int()\n",
    "floating point ---float()\n",
    "string ----str()"
   ]
  },
  {
   "cell_type": "code",
   "execution_count": null,
   "id": "3a1b7bb5",
   "metadata": {},
   "outputs": [],
   "source": [
    "10) Why does this expression cause an error? How can you fix it?\n",
    "'I have eaten'  + 99 + 'burritos'."
   ]
  },
  {
   "cell_type": "code",
   "execution_count": 8,
   "id": "026ddea8",
   "metadata": {},
   "outputs": [
    {
     "name": "stdout",
     "output_type": "stream",
     "text": [
      "I have eaten99burritos\n"
     ]
    }
   ],
   "source": [
    "#answer\n",
    "print('I have eaten'  + '99' + 'burritos')"
   ]
  },
  {
   "cell_type": "code",
   "execution_count": null,
   "id": "9bafa591",
   "metadata": {},
   "outputs": [],
   "source": []
  }
 ],
 "metadata": {
  "kernelspec": {
   "display_name": "Python 3 (ipykernel)",
   "language": "python",
   "name": "python3"
  },
  "language_info": {
   "codemirror_mode": {
    "name": "ipython",
    "version": 3
   },
   "file_extension": ".py",
   "mimetype": "text/x-python",
   "name": "python",
   "nbconvert_exporter": "python",
   "pygments_lexer": "ipython3",
   "version": "3.9.12"
  }
 },
 "nbformat": 4,
 "nbformat_minor": 5
}
